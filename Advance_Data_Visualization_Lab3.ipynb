{
  "nbformat": 4,
  "nbformat_minor": 0,
  "metadata": {
    "colab": {
      "provenance": [],
      "authorship_tag": "ABX9TyPe7EriPW/rZOXWIE/6S33C",
      "include_colab_link": true
    },
    "kernelspec": {
      "name": "python3",
      "display_name": "Python 3"
    },
    "language_info": {
      "name": "python"
    }
  },
  "cells": [
    {
      "cell_type": "markdown",
      "metadata": {
        "id": "view-in-github",
        "colab_type": "text"
      },
      "source": [
        "<a href=\"https://colab.research.google.com/github/pammyyAnn/Advance-Data-Visualization-Lab3/blob/main/Advance_Data_Visualization_Lab3.ipynb\" target=\"_parent\"><img src=\"https://colab.research.google.com/assets/colab-badge.svg\" alt=\"Open In Colab\"/></a>"
      ]
    },
    {
      "cell_type": "code",
      "source": [
        "Add = 1 + 1\n",
        "print(Add)"
      ],
      "metadata": {
        "colab": {
          "base_uri": "https://localhost:8080/"
        },
        "id": "9k1PA7eKzG8l",
        "outputId": "d08c648f-f0b3-4f3c-ca7e-8f9a146a1d4d"
      },
      "execution_count": 2,
      "outputs": [
        {
          "output_type": "stream",
          "name": "stdout",
          "text": [
            "2\n"
          ]
        }
      ]
    },
    {
      "cell_type": "code",
      "source": [
        "Subtract = 2- 1\n",
        "print(Subtract)"
      ],
      "metadata": {
        "colab": {
          "base_uri": "https://localhost:8080/"
        },
        "id": "dDBPQmVczNhp",
        "outputId": "f828d514-17da-499e-b288-a5f0c073ef8a"
      },
      "execution_count": 3,
      "outputs": [
        {
          "output_type": "stream",
          "name": "stdout",
          "text": [
            "1\n"
          ]
        }
      ]
    },
    {
      "cell_type": "code",
      "source": [
        "Divide = 129/2\n",
        "print(Divide)"
      ],
      "metadata": {
        "colab": {
          "base_uri": "https://localhost:8080/"
        },
        "id": "7Re_wXYOzV2b",
        "outputId": "ceff9c05-c152-46ca-b73a-7eb63a7ba57b"
      },
      "execution_count": 4,
      "outputs": [
        {
          "output_type": "stream",
          "name": "stdout",
          "text": [
            "64.5\n"
          ]
        }
      ]
    },
    {
      "cell_type": "code",
      "source": [
        "Exponent = 2**4\n",
        "print(Exponent)"
      ],
      "metadata": {
        "colab": {
          "base_uri": "https://localhost:8080/"
        },
        "id": "gfeIo7QVzekP",
        "outputId": "66d2e4e3-42a2-4894-d909-83115409d4b7"
      },
      "execution_count": 5,
      "outputs": [
        {
          "output_type": "stream",
          "name": "stdout",
          "text": [
            "16\n"
          ]
        }
      ]
    },
    {
      "cell_type": "code",
      "source": [
        "Multiply = 2*3\n",
        "print(Multiply)"
      ],
      "metadata": {
        "colab": {
          "base_uri": "https://localhost:8080/"
        },
        "id": "_LCgrwGSzoFE",
        "outputId": "28bd521a-d291-4c0d-cd2b-f831497198c0"
      },
      "execution_count": 6,
      "outputs": [
        {
          "output_type": "stream",
          "name": "stdout",
          "text": [
            "6\n"
          ]
        }
      ]
    },
    {
      "cell_type": "code",
      "source": [
        "Remainder = 20%3\n",
        "print(Remainder)"
      ],
      "metadata": {
        "colab": {
          "base_uri": "https://localhost:8080/"
        },
        "id": "x0ZxxBS1zwW_",
        "outputId": "9ba49d09-b4c3-466f-c197-8713c1c220b4"
      },
      "execution_count": 7,
      "outputs": [
        {
          "output_type": "stream",
          "name": "stdout",
          "text": [
            "2\n"
          ]
        }
      ]
    },
    {
      "cell_type": "code",
      "source": [
        "a = 10\n",
        "b = 10\n",
        "if a ==b:\n",
        "  print(\"a equals b\")"
      ],
      "metadata": {
        "colab": {
          "base_uri": "https://localhost:8080/"
        },
        "id": "tGemm7oPz4K1",
        "outputId": "fef5f1b3-ad2b-4a9a-eccc-24c355f14ab8"
      },
      "execution_count": 10,
      "outputs": [
        {
          "output_type": "stream",
          "name": "stdout",
          "text": [
            "a equals b\n"
          ]
        }
      ]
    },
    {
      "cell_type": "code",
      "source": [
        "a = 10\n",
        "b = 8 \n",
        "if a < b:\n",
        "  print(\"a is less than b\")"
      ],
      "metadata": {
        "id": "GnZkmBNt0Mzz"
      },
      "execution_count": 12,
      "outputs": []
    },
    {
      "cell_type": "code",
      "source": [
        "a = 12\n",
        "b = 12\n",
        "if a > b:\n",
        "  print(\"a is greater than b\")\n",
        "else:\n",
        "    print(\"a is not greater than b\")"
      ],
      "metadata": {
        "colab": {
          "base_uri": "https://localhost:8080/"
        },
        "id": "ey-mTy640puu",
        "outputId": "e2c63227-4eb9-4dce-cf63-43043e634853"
      },
      "execution_count": 14,
      "outputs": [
        {
          "output_type": "stream",
          "name": "stdout",
          "text": [
            "a is not greater than b\n"
          ]
        }
      ]
    },
    {
      "cell_type": "code",
      "source": [
        "a = 13\n",
        "b = 12\n",
        "if a > b:\n",
        "  print(\"a is greater than b\")\n",
        "elif a == b:\n",
        "  print(\"a is equal to b\")\n",
        "else:\n",
        "  print(\"a is less than b\")"
      ],
      "metadata": {
        "colab": {
          "base_uri": "https://localhost:8080/"
        },
        "id": "TJqC3bVq1Yqq",
        "outputId": "5a3df957-285c-486a-fa3b-b6ddf44a66ce"
      },
      "execution_count": 15,
      "outputs": [
        {
          "output_type": "stream",
          "name": "stdout",
          "text": [
            "a is greater than b\n"
          ]
        }
      ]
    },
    {
      "cell_type": "code",
      "source": [
        "a = 10\n",
        "b = 10\n",
        "if a != b:\n",
        "  print(\"a does not equal b\")"
      ],
      "metadata": {
        "id": "V0E5NPgo2AoY"
      },
      "execution_count": 16,
      "outputs": []
    },
    {
      "cell_type": "code",
      "source": [
        "(1 + 1) == (True + True)"
      ],
      "metadata": {
        "colab": {
          "base_uri": "https://localhost:8080/"
        },
        "id": "8KVxXlPX2P_i",
        "outputId": "b55447c9-eaa0-4d45-c980-2ea7f51e1c3a"
      },
      "execution_count": 18,
      "outputs": [
        {
          "output_type": "execute_result",
          "data": {
            "text/plain": [
              "True"
            ]
          },
          "metadata": {},
          "execution_count": 18
        }
      ]
    },
    {
      "cell_type": "code",
      "source": [
        "num=3;\n",
        "if num==3:\n",
        "  print(num)"
      ],
      "metadata": {
        "colab": {
          "base_uri": "https://localhost:8080/"
        },
        "id": "eiGTvdd72qey",
        "outputId": "f00fbcbc-88fb-496f-a8c2-14b0e3c633d0"
      },
      "execution_count": 19,
      "outputs": [
        {
          "output_type": "stream",
          "name": "stdout",
          "text": [
            "3\n"
          ]
        }
      ]
    },
    {
      "cell_type": "code",
      "source": [
        "num = 3\n",
        "if num > 10:\n",
        " print(num)"
      ],
      "metadata": {
        "id": "rlln7hha29aE"
      },
      "execution_count": 21,
      "outputs": []
    },
    {
      "cell_type": "code",
      "source": [
        "num = 3\n",
        "if num % 3 == 0:\n",
        "  print(\"Fizz\")"
      ],
      "metadata": {
        "colab": {
          "base_uri": "https://localhost:8080/"
        },
        "id": "xs0CKRXM3T_E",
        "outputId": "00db4740-47ca-4da7-ebad-6bd9c8797f02"
      },
      "execution_count": 23,
      "outputs": [
        {
          "output_type": "stream",
          "name": "stdout",
          "text": [
            "Fizz\n"
          ]
        }
      ]
    },
    {
      "cell_type": "code",
      "source": [
        "num = 10\n",
        "if num % 5 == 0:\n",
        "  print(\"Buzz\")"
      ],
      "metadata": {
        "colab": {
          "base_uri": "https://localhost:8080/"
        },
        "id": "FcrNDta-3g9i",
        "outputId": "138e78f6-6d08-4bf3-a2b6-a213f07047d5"
      },
      "execution_count": 25,
      "outputs": [
        {
          "output_type": "stream",
          "name": "stdout",
          "text": [
            "Buzz\n"
          ]
        }
      ]
    },
    {
      "cell_type": "code",
      "source": [
        "num = 4\n",
        "print(num > 0 and num < 15)"
      ],
      "metadata": {
        "colab": {
          "base_uri": "https://localhost:8080/"
        },
        "id": "8jo2bICa39tZ",
        "outputId": "9fdad4a8-df7a-4131-d5f4-b6c77ec27d39"
      },
      "execution_count": 26,
      "outputs": [
        {
          "output_type": "stream",
          "name": "stdout",
          "text": [
            "True\n"
          ]
        }
      ]
    },
    {
      "cell_type": "code",
      "source": [
        "if num > 0 and num < 15:\n",
        "  print(num)"
      ],
      "metadata": {
        "colab": {
          "base_uri": "https://localhost:8080/"
        },
        "id": "2TJCXQO84Ggx",
        "outputId": "0424bb8e-47f6-49a3-f389-08fee6e9db79"
      },
      "execution_count": 27,
      "outputs": [
        {
          "output_type": "stream",
          "name": "stdout",
          "text": [
            "4\n"
          ]
        }
      ]
    },
    {
      "cell_type": "code",
      "source": [
        "num = 4 \n",
        "num > 0 or num > 15"
      ],
      "metadata": {
        "colab": {
          "base_uri": "https://localhost:8080/"
        },
        "id": "0PgSzToQ4OVA",
        "outputId": "46fceeea-9ae1-4fbd-fcad-f282c6874935"
      },
      "execution_count": 28,
      "outputs": [
        {
          "output_type": "execute_result",
          "data": {
            "text/plain": [
              "True"
            ]
          },
          "metadata": {},
          "execution_count": 28
        }
      ]
    },
    {
      "cell_type": "code",
      "source": [
        "num = 4 \n",
        "print(num > 0 and num < 15)"
      ],
      "metadata": {
        "colab": {
          "base_uri": "https://localhost:8080/"
        },
        "id": "uHcX4qCX4gR9",
        "outputId": "93f4bbaa-7ac3-4c1d-92ed-71e84c53b38c"
      },
      "execution_count": 30,
      "outputs": [
        {
          "output_type": "stream",
          "name": "stdout",
          "text": [
            "True\n"
          ]
        }
      ]
    }
  ]
}